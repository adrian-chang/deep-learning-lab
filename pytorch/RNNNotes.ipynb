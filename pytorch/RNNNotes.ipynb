{
 "cells": [
  {
   "cell_type": "markdown",
   "metadata": {},
   "source": [
    "* Matrix Calculator\n",
    "    * https://matrixcalc.org/en/#%7B%7B1,1%7D%7D%2A%7B%7B2,2%7D,%7B2,2%7D%7D\n",
    "* Hidden State Ranks Explained\n",
    "    * https://cs224d.stanford.edu/lectures/CS224d-Lecture8.pdf\n",
    "* RNN Diagram Pytorch\n",
    "    * https://stackoverflow.com/questions/48302810/whats-the-difference-between-hidden-and-output-in-pytorch-lstm?rq=1\n",
    "* Additional RNN Output Discussion\n",
    "    * https://discuss.pytorch.org/t/the-difference-and-use-of-output-and-hidden-state-of-an-rnn/15108/2\n",
    "* O'Riley PyTorch\n",
    "    * https://github.com/adeshpande3/LSTM-Sentiment-Analysis/blob/master/Oriole%20LSTM.ipynb\n",
    "* Practical PyTorch\n",
    "    * https://github.com/spro/practical-pytorch"
   ]
  },
  {
   "cell_type": "code",
   "execution_count": null,
   "metadata": {},
   "outputs": [],
   "source": []
  }
 ],
 "metadata": {
  "kernelspec": {
   "display_name": "Python 3",
   "language": "python",
   "name": "python3"
  },
  "language_info": {
   "codemirror_mode": {
    "name": "ipython",
    "version": 3
   },
   "file_extension": ".py",
   "mimetype": "text/x-python",
   "name": "python",
   "nbconvert_exporter": "python",
   "pygments_lexer": "ipython3",
   "version": "3.6.5"
  }
 },
 "nbformat": 4,
 "nbformat_minor": 2
}
