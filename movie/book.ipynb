{
 "cells": [
  {
   "cell_type": "markdown",
   "metadata": {},
   "source": [
    "# Movie Sentiment Analysis\n",
    "\n",
    "Use PyTorch to learn how to do basic movie sentiment analysis\n",
    "\n",
    "## References\n",
    "\n",
    "* https://machinelearningmastery.com/sequence-classification-lstm-recurrent-neural-networks-python-keras/\n",
    "* https://github.com/hunkim/PyTorchZeroToAll\n",
    "* https://github.com/clairett/pytorch-sentiment-classification\n",
    "* https://machinelearningmastery.com/applications-of-deep-learning-for-natural-language-processing/\n",
    "* https://github.com/a7b23/text-classification-in-pytorch-using-lstm\n",
    "* https://github.com/udacity/deep-learning/blob/master/sentiment-rnn/Sentiment_RNN_Solution.ipynb\n",
    "* https://github.com/ritchieng/the-incredible-pytorch"
   ]
  },
  {
   "cell_type": "code",
   "execution_count": 1,
   "metadata": {},
   "outputs": [],
   "source": [
    "import spacy\n",
    "import numpy as np\n",
    "import pandas as pd\n",
    "import matplotlib.pyplot as plt\n",
    "from collections import defaultdict\n",
    "from tqdm import tqdm_notebook"
   ]
  },
  {
   "cell_type": "markdown",
   "metadata": {},
   "source": [
    "## Preprocess\n",
    "\n",
    "1. Inspect words\n",
    "    1. Get raw word counts\n",
    "    2. Find frequent and infrequent words\n",
    "        1. Remove spaces\n",
    "        2. Remove punucations\n",
    "        3. Remove emails\n",
    "        4. Remove urls\n",
    "    3. Remove infrequent or too frequent words\n",
    "2. Inspect reviews\n",
    "    * Decide correct review length within a reasonable size otherwise will take too long"
   ]
  },
  {
   "cell_type": "markdown",
   "metadata": {},
   "source": [
    "### Inspect Words"
   ]
  },
  {
   "cell_type": "markdown",
   "metadata": {},
   "source": [
    "#### Get raw word counts"
   ]
  },
  {
   "cell_type": "code",
   "execution_count": 2,
   "metadata": {},
   "outputs": [
    {
     "data": {
      "application/vnd.jupyter.widget-view+json": {
       "model_id": "09373b1179e44ae0888d79a2e5aac35c",
       "version_major": 2,
       "version_minor": 0
      },
      "text/plain": [
       "HBox(children=(IntProgress(value=1, bar_style='info', max=1), HTML(value='')))"
      ]
     },
     "metadata": {},
     "output_type": "display_data"
    },
    {
     "name": "stdout",
     "output_type": "stream",
     "text": [
      "\n"
     ]
    }
   ],
   "source": [
    "nlp = spacy.load('en', disable=['tagger', 'parser', 'ner', 'textcat'])\n",
    "words = defaultdict(lambda: 0)\n",
    "\n",
    "def clean_doc(doc):\n",
    "    for token in doc:\n",
    "        ignore = (token.is_punct or\n",
    "            token.is_space or token.like_email or\n",
    "                 token.like_url)\n",
    "        if ignore:\n",
    "            continue\n",
    "        words[token.text] += 1\n",
    "    return doc\n",
    "    \n",
    "nlp.add_pipe(clean_doc)\n",
    "\n",
    "with open('./reviews.txt', 'r') as file:\n",
    "    for raw_review in tqdm_notebook(file):\n",
    "        result = nlp(raw_review)"
   ]
  },
  {
   "cell_type": "markdown",
   "metadata": {},
   "source": [
    "#### Find frequent and infrequent words"
   ]
  },
  {
   "cell_type": "code",
   "execution_count": 3,
   "metadata": {},
   "outputs": [
    {
     "data": {
      "image/png": "[encoded data removed]",
      "text/plain": [
       "<Figure size 432x288 with 1 Axes>"
      ]
     },
     "metadata": {},
     "output_type": "display_data"
    }
   ],
   "source": [
    "words_sorted = sorted(words.items(), key=lambda item: item[1])\n",
    "word_counts = np.array(list(map(lambda word: word[1], words_sorted)))\n",
    "plt.grid(True)\n",
    "plt.boxplot(word_counts, vert=False)\n",
    "plt.xlabel('Count')\n",
    "plt.ylabel('Frequency')\n",
    "plt.show()"
   ]
  },
  {
   "cell_type": "code",
   "execution_count": 4,
   "metadata": {},
   "outputs": [
    {
     "data": {
      "text/html": [
       "<div>\n",
       "<style scoped>\n",
       "    .dataframe tbody tr th:only-of-type {\n",
       "        vertical-align: middle;\n",
       "    }\n",
       "\n",
       "    .dataframe tbody tr th {\n",
       "        vertical-align: top;\n",
       "    }\n",
       "\n",
       "    .dataframe thead th {\n",
       "        text-align: right;\n",
       "    }\n",
       "</style>\n",
       "<table border=\"1\" class=\"dataframe\">\n",
       "  <thead>\n",
       "    <tr style=\"text-align: right;\">\n",
       "      <th></th>\n",
       "      <th>0</th>\n",
       "    </tr>\n",
       "  </thead>\n",
       "  <tbody>\n",
       "    <tr>\n",
       "      <th>count</th>\n",
       "      <td>74023.000000</td>\n",
       "    </tr>\n",
       "    <tr>\n",
       "      <th>mean</th>\n",
       "      <td>81.369250</td>\n",
       "    </tr>\n",
       "    <tr>\n",
       "      <th>std</th>\n",
       "      <td>2046.978191</td>\n",
       "    </tr>\n",
       "    <tr>\n",
       "      <th>min</th>\n",
       "      <td>1.000000</td>\n",
       "    </tr>\n",
       "    <tr>\n",
       "      <th>25%</th>\n",
       "      <td>1.000000</td>\n",
       "    </tr>\n",
       "    <tr>\n",
       "      <th>50%</th>\n",
       "      <td>3.000000</td>\n",
       "    </tr>\n",
       "    <tr>\n",
       "      <th>75%</th>\n",
       "      <td>11.000000</td>\n",
       "    </tr>\n",
       "    <tr>\n",
       "      <th>max</th>\n",
       "      <td>336713.000000</td>\n",
       "    </tr>\n",
       "  </tbody>\n",
       "</table>\n",
       "</div>"
      ],
      "text/plain": [
       "                   0\n",
       "count   74023.000000\n",
       "mean       81.369250\n",
       "std      2046.978191\n",
       "min         1.000000\n",
       "25%         1.000000\n",
       "50%         3.000000\n",
       "75%        11.000000\n",
       "max    336713.000000"
      ]
     },
     "execution_count": 4,
     "metadata": {},
     "output_type": "execute_result"
    }
   ],
   "source": [
    "pd.DataFrame(word_counts).describe()"
   ]
  },
  {
   "cell_type": "markdown",
   "metadata": {},
   "source": [
    "### Remove words of a certain bound"
   ]
  },
  {
   "cell_type": "code",
   "execution_count": 5,
   "metadata": {},
   "outputs": [],
   "source": [
    "upper_bound = np.percentile(word_counts, 99)\n",
    "lower_bound = np.percentile(word_counts, 40)\n",
    "remaining_words = dict(filter(lambda word: word[1] >= lower_bound and word[1] < upper_bound, words_sorted))"
   ]
  },
  {
   "cell_type": "code",
   "execution_count": 6,
   "metadata": {},
   "outputs": [
    {
     "data": {
      "application/vnd.jupyter.widget-view+json": {
       "model_id": "d44d60711f874fada00ccb9f4da46795",
       "version_major": 2,
       "version_minor": 0
      },
      "text/plain": [
       "HBox(children=(IntProgress(value=1, bar_style='info', max=1), HTML(value='')))"
      ]
     },
     "metadata": {},
     "output_type": "display_data"
    },
    {
     "name": "stdout",
     "output_type": "stream",
     "text": [
      "\n"
     ]
    }
   ],
   "source": [
    "nlp = spacy.load('en', disable=['tagger', 'parser', 'ner', 'textcat'])\n",
    "\n",
    "def final_doc(doc):\n",
    "    result = ''\n",
    "    for token in doc:\n",
    "        ignore = (token.is_punct or\n",
    "            token.is_space or token.like_email or\n",
    "                 token.like_url or (token.text not in remaining_words))\n",
    "        if ignore:\n",
    "            continue\n",
    "        result += token.text + ' '\n",
    "    return result\n",
    "\n",
    "nlp.add_pipe(final_doc)\n",
    "\n",
    "shortened_reviews = []\n",
    "with open('./reviews.txt', 'r') as file:\n",
    "    for raw_review in tqdm_notebook(file):\n",
    "        shortened_reviews.append(nlp(raw_review))"
   ]
  },
  {
   "cell_type": "markdown",
   "metadata": {},
   "source": [
    "## Inspect Reviews  "
   ]
  },
  {
   "cell_type": "markdown",
   "metadata": {},
   "source": [
    "### Find review length"
   ]
  },
  {
   "cell_type": "code",
   "execution_count": 7,
   "metadata": {},
   "outputs": [],
   "source": [
    "review_lengths = np.array(list(map(lambda rev: len(rev), shortened_reviews)))"
   ]
  },
  {
   "cell_type": "code",
   "execution_count": 8,
   "metadata": {},
   "outputs": [
    {
     "data": {
      "image/png": "[encoded data removed]",
      "text/plain": [
       "<Figure size 432x288 with 1 Axes>"
      ]
     },
     "metadata": {},
     "output_type": "display_data"
    }
   ],
   "source": [
    "plt.grid(True)\n",
    "plt.boxplot(review_lengths, vert=False)\n",
    "plt.xlabel('Count')\n",
    "plt.ylabel('Frequency')\n",
    "plt.show()"
   ]
  },
  {
   "cell_type": "code",
   "execution_count": 9,
   "metadata": {},
   "outputs": [
    {
     "data": {
      "text/html": [
       "<div>\n",
       "<style scoped>\n",
       "    .dataframe tbody tr th:only-of-type {\n",
       "        vertical-align: middle;\n",
       "    }\n",
       "\n",
       "    .dataframe tbody tr th {\n",
       "        vertical-align: top;\n",
       "    }\n",
       "\n",
       "    .dataframe thead th {\n",
       "        text-align: right;\n",
       "    }\n",
       "</style>\n",
       "<table border=\"1\" class=\"dataframe\">\n",
       "  <thead>\n",
       "    <tr style=\"text-align: right;\">\n",
       "      <th></th>\n",
       "      <th>0</th>\n",
       "    </tr>\n",
       "  </thead>\n",
       "  <tbody>\n",
       "    <tr>\n",
       "      <th>count</th>\n",
       "      <td>25000.000000</td>\n",
       "    </tr>\n",
       "    <tr>\n",
       "      <th>mean</th>\n",
       "      <td>458.325960</td>\n",
       "    </tr>\n",
       "    <tr>\n",
       "      <th>std</th>\n",
       "      <td>412.386458</td>\n",
       "    </tr>\n",
       "    <tr>\n",
       "      <th>min</th>\n",
       "      <td>0.000000</td>\n",
       "    </tr>\n",
       "    <tr>\n",
       "      <th>25%</th>\n",
       "      <td>200.750000</td>\n",
       "    </tr>\n",
       "    <tr>\n",
       "      <th>50%</th>\n",
       "      <td>320.000000</td>\n",
       "    </tr>\n",
       "    <tr>\n",
       "      <th>75%</th>\n",
       "      <td>562.000000</td>\n",
       "    </tr>\n",
       "    <tr>\n",
       "      <th>max</th>\n",
       "      <td>6823.000000</td>\n",
       "    </tr>\n",
       "  </tbody>\n",
       "</table>\n",
       "</div>"
      ],
      "text/plain": [
       "                  0\n",
       "count  25000.000000\n",
       "mean     458.325960\n",
       "std      412.386458\n",
       "min        0.000000\n",
       "25%      200.750000\n",
       "50%      320.000000\n",
       "75%      562.000000\n",
       "max     6823.000000"
      ]
     },
     "execution_count": 9,
     "metadata": {},
     "output_type": "execute_result"
    }
   ],
   "source": [
    "pd.DataFrame(review_lengths).describe()"
   ]
  },
  {
   "cell_type": "code",
   "execution_count": 10,
   "metadata": {},
   "outputs": [
    {
     "data": {
      "text/plain": [
       "200.75"
      ]
     },
     "execution_count": 10,
     "metadata": {},
     "output_type": "execute_result"
    }
   ],
   "source": [
    "lower_review_bound = np.percentile(review_lengths, 25)\n",
    "lower_review_bound"
   ]
  },
  {
   "cell_type": "code",
   "execution_count": 11,
   "metadata": {},
   "outputs": [
    {
     "data": {
      "text/plain": [
       "1032.0"
      ]
     },
     "execution_count": 11,
     "metadata": {},
     "output_type": "execute_result"
    }
   ],
   "source": [
    "upper_review_bound = np.percentile(review_lengths, 91)\n",
    "upper_review_bound"
   ]
  },
  {
   "cell_type": "raw",
   "metadata": {},
   "source": [
    "with open('./labels.txt', 'r') as file:\n",
    "    labels = np.array(file.readlines())\n",
    "remaining_reviews = np.where((review_lengths > lower_review_bound) & (review_lengths < upper_review_bound))\n",
    "final_reviews = np.array(shortened_reviews)[remaining_reviews]\n",
    "final_labels = labels[remaining_reviews]"
   ]
  },
  {
   "cell_type": "markdown",
   "metadata": {},
   "source": [
    "#### Word to Number Mapping"
   ]
  },
  {
   "cell_type": "code",
   "execution_count": 12,
   "metadata": {},
   "outputs": [
    {
     "data": {
      "application/vnd.jupyter.widget-view+json": {
       "model_id": "3346e157c0d84e0f879d1791fd412628",
       "version_major": 2,
       "version_minor": 0
      },
      "text/plain": [
       "HBox(children=(IntProgress(value=0, max=25000), HTML(value='')))"
      ]
     },
     "metadata": {},
     "output_type": "display_data"
    },
    {
     "name": "stdout",
     "output_type": "stream",
     "text": [
      "\n"
     ]
    }
   ],
   "source": [
    "word_mapping = {}\n",
    "word_index = 1\n",
    "REVIEW_LENGTH = 200\n",
    "reviews_as_words = []\n",
    "for review in tqdm_notebook(shortened_reviews):\n",
    "    review_words = review.split(' ')[:REVIEW_LENGTH]\n",
    "    for review_word in review_words:\n",
    "        if review_word not in word_mapping:\n",
    "            word_mapping[review_word] = word_index\n",
    "            word_index += 1\n",
    "    reviews_as_words.append(review_words)"
   ]
  },
  {
   "cell_type": "code",
   "execution_count": 13,
   "metadata": {},
   "outputs": [
    {
     "data": {
      "text/plain": [
       "45579"
      ]
     },
     "execution_count": 13,
     "metadata": {},
     "output_type": "execute_result"
    }
   ],
   "source": [
    "word_index"
   ]
  },
  {
   "cell_type": "markdown",
   "metadata": {},
   "source": [
    "### Reviews as indexes"
   ]
  },
  {
   "cell_type": "code",
   "execution_count": 14,
   "metadata": {},
   "outputs": [
    {
     "data": {
      "application/vnd.jupyter.widget-view+json": {
       "model_id": "0abb35beb34f44cc82e723d809d54591",
       "version_major": 2,
       "version_minor": 0
      },
      "text/plain": [
       "HBox(children=(IntProgress(value=0, max=25000), HTML(value='')))"
      ]
     },
     "metadata": {},
     "output_type": "display_data"
    },
    {
     "name": "stdout",
     "output_type": "stream",
     "text": [
      "\n"
     ]
    }
   ],
   "source": [
    "reviews_as_indexes = []\n",
    "for review_words in tqdm_notebook(reviews_as_words):\n",
    "    numerical_review = []\n",
    "    for review_word in review_words:\n",
    "        if review_word in word_mapping:\n",
    "            numerical_review.append(word_mapping[review_word])\n",
    "    numerical_review = np.array(numerical_review)\n",
    "    reviews_as_indexes.append(np.pad(numerical_review, (0, REVIEW_LENGTH - len(numerical_review)), mode='constant', constant_values=0))\n",
    "reviews_as_indexes = np.array(reviews_as_indexes)"
   ]
  },
  {
   "cell_type": "markdown",
   "metadata": {},
   "source": [
    "### Review Classifications"
   ]
  },
  {
   "cell_type": "code",
   "execution_count": 30,
   "metadata": {},
   "outputs": [],
   "source": [
    "review_classifications = []\n",
    "with open('./labels.txt', 'r') as file:\n",
    "    for classify in file:\n",
    "        if 'positive' in classify:\n",
    "            review_classifications.append(1)\n",
    "        else:\n",
    "            review_classifications.append(0)\n",
    "review_classifications = np.array(review_classifications)"
   ]
  },
  {
   "cell_type": "code",
   "execution_count": 16,
   "metadata": {},
   "outputs": [
    {
     "data": {
      "image/png": "[encoded data removed]",
      "text/plain": [
       "<Figure size 432x288 with 1 Axes>"
      ]
     },
     "metadata": {},
     "output_type": "display_data"
    }
   ],
   "source": [
    "review_positive = review_classifications[review_classifications[:] == 1]\n",
    "review_negative = review_classifications[review_classifications[:] == 0]\n",
    "review_positive_count = review_positive.shape[0]\n",
    "review_negative_count = review_negative.shape[0]\n",
    "plt.bar(['positive', 'negative'], [review_positive_count, review_negative_count])\n",
    "plt.show()"
   ]
  },
  {
   "cell_type": "code",
   "execution_count": 17,
   "metadata": {},
   "outputs": [
    {
     "name": "stdout",
     "output_type": "stream",
     "text": [
      "Positive reviews 12500\n",
      "Negative reviews 12500\n"
     ]
    }
   ],
   "source": [
    "print(f'Positive reviews {review_positive_count}')\n",
    "print(f'Negative reviews {review_negative_count}')"
   ]
  },
  {
   "cell_type": "markdown",
   "metadata": {},
   "source": [
    "### Save Work"
   ]
  },
  {
   "cell_type": "raw",
   "metadata": {},
   "source": [
    "with open('./binary-labels.npz', 'wb') as file:\n",
    "    np.savez_compressed(file, review_classifications)"
   ]
  },
  {
   "cell_type": "raw",
   "metadata": {},
   "source": [
    "reviews_as_indexes = np.array(reviews_as_indexes)\n",
    "with open('./binary-reviews.npz', 'wb') as file:\n",
    "    np.savez_compressed(file, reviews_as_indexes)"
   ]
  },
  {
   "cell_type": "raw",
   "metadata": {},
   "source": [
    "import pickle\n",
    "\n",
    "with open(f'./word-mapping-{word_index}-{REVIEW_LENGTH}.pkl', 'wb') as file:\n",
    "    pickle.dump(word_mapping, file, pickle.HIGHEST_PROTOCOL)"
   ]
  },
  {
   "cell_type": "markdown",
   "metadata": {},
   "source": [
    "### Build a training set / test set"
   ]
  },
  {
   "cell_type": "markdown",
   "metadata": {},
   "source": [
    "# Deep Learning\n",
    "\n",
    "* Can resuse embeddings so people already build the similarity table\n",
    "    * https://www.quora.com/What-is-the-embedding-layer-in-LSTM-long-short-term-memory\n",
    "* See train.py for full code"
   ]
  }
 ],
 "metadata": {
  "kernelspec": {
   "display_name": "Python 3",
   "language": "python",
   "name": "python3"
  },
  "language_info": {
   "codemirror_mode": {
    "name": "ipython",
    "version": 3
   },
   "file_extension": ".py",
   "mimetype": "text/x-python",
   "name": "python",
   "nbconvert_exporter": "python",
   "pygments_lexer": "ipython3",
   "version": "3.6.5"
  }
 },
 "nbformat": 4,
 "nbformat_minor": 2
}
