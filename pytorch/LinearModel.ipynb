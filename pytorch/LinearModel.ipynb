{
 "cells": [
  {
   "cell_type": "markdown",
   "metadata": {},
   "source": [
    "# Workbook for\n",
    "\n",
    "https://www.youtube.com/watch?v=l-Fe9Ekxxj4&index=2&list=PLlMkM4tgfjnJ3I-dbhO9JTw7gNty6o_2m"
   ]
  },
  {
   "cell_type": "code",
   "execution_count": 41,
   "metadata": {},
   "outputs": [
    {
     "name": "stderr",
     "output_type": "stream",
     "text": [
      "/Users/achang/miniconda2/envs/deep-learning-lab/lib/python3.6/site-packages/matplotlib/font_manager.py:278: UserWarning: Matplotlib is building the font cache using fc-list. This may take a moment.\n",
      "  'Matplotlib is building the font cache using fc-list. '\n"
     ]
    }
   ],
   "source": [
    "import torch\n",
    "import numpy as np\n",
    "import matplotlib.pyplot as plt"
   ]
  },
  {
   "cell_type": "markdown",
   "metadata": {},
   "source": [
    "$\\hat{y} = x * w + b$\n",
    "\n",
    "$\\hat{y} = x * w$\n",
    "\n",
    "Training Loss\n",
    "\n",
    "$ loss = (\\hat{y} - y)^2 $ or $ (x * w - y) ^ 2 $\n",
    "\n",
    "MSE ($N$ is samples)\n",
    "\n",
    "$loss = \\frac{1}{n} \\sum_{n=1}^N(\\hat{y}_n - y)^2$\n"
   ]
  },
  {
   "cell_type": "markdown",
   "metadata": {},
   "source": [
    "### Data"
   ]
  },
  {
   "cell_type": "code",
   "execution_count": 27,
   "metadata": {},
   "outputs": [],
   "source": [
    "x_data = np.array([1,2,3])\n",
    "y_data = np.array([2,4,6])"
   ]
  },
  {
   "cell_type": "markdown",
   "metadata": {},
   "source": [
    "### Model (forward pass)\n",
    "\n",
    "$\\hat{y} = x * w$"
   ]
  },
  {
   "cell_type": "code",
   "execution_count": 36,
   "metadata": {},
   "outputs": [],
   "source": [
    "def forward(x, w):\n",
    "    return x * w"
   ]
  },
  {
   "cell_type": "markdown",
   "metadata": {},
   "source": [
    "### Loss (error)\n",
    "\n",
    "$\\hat{y} = x * w$"
   ]
  },
  {
   "cell_type": "code",
   "execution_count": 39,
   "metadata": {},
   "outputs": [],
   "source": [
    "def loss(x, y, w):\n",
    "    y_pred = forward(x, w)\n",
    "    return (y_pred - y) ** 2"
   ]
  },
  {
   "cell_type": "markdown",
   "metadata": {},
   "source": [
    "### Full solution"
   ]
  },
  {
   "cell_type": "code",
   "execution_count": 42,
   "metadata": {},
   "outputs": [],
   "source": [
    "mse = []\n",
    "for w in np.arange(0.0, 4.1, 0.1):\n",
    "    loss_sum = 0\n",
    "    for x, y in zip(x_data, y_data):\n",
    "        loss_sum += loss(x, y, w)\n",
    "    mse.append([w, loss_sum / len(x_data)])\n",
    "mse = np.array(mse)"
   ]
  },
  {
   "cell_type": "code",
   "execution_count": 44,
   "metadata": {},
   "outputs": [
    {
     "data": {
      "image/png": "[encoded data removed]",
      "text/plain": [
       "<Figure size 432x288 with 1 Axes>"
      ]
     },
     "metadata": {},
     "output_type": "display_data"
    }
   ],
   "source": [
    "plt.plot(mse[:,0], mse[:, 1])\n",
    "plt.ylabel('Loss')\n",
    "plt.xlabel('Weights')\n",
    "plt.show()"
   ]
  }
 ],
 "metadata": {
  "kernelspec": {
   "display_name": "Python 3",
   "language": "python",
   "name": "python3"
  },
  "language_info": {
   "codemirror_mode": {
    "name": "ipython",
    "version": 3
   },
   "file_extension": ".py",
   "mimetype": "text/x-python",
   "name": "python",
   "nbconvert_exporter": "python",
   "pygments_lexer": "ipython3",
   "version": "3.6.5"
  }
 },
 "nbformat": 4,
 "nbformat_minor": 2
}
